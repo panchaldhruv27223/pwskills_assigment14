{
 "cells": [
  {
   "cell_type": "code",
   "execution_count": null,
   "id": "8e65fc44",
   "metadata": {},
   "outputs": [],
   "source": [
    "Q 1. what is multithreading in python? why is it used? Name the module used to handle threads in python."
   ]
  },
  {
   "cell_type": "code",
   "execution_count": 3,
   "id": "9eadcdb9",
   "metadata": {},
   "outputs": [],
   "source": [
    "#  multithreading in python means multiple threads are runing in one process.\n",
    "#  thread is light weight process.\n",
    "#  multithreading is used to utilize resources\n",
    "#  it save time due to run multiple thread at the same time "
   ]
  },
  {
   "cell_type": "code",
   "execution_count": 4,
   "id": "258270c1",
   "metadata": {},
   "outputs": [],
   "source": [
    "# there are two modules used in the thread :\n",
    "#     thread module \n",
    "#     threading module\n",
    "    "
   ]
  },
  {
   "cell_type": "code",
   "execution_count": null,
   "id": "274416cd",
   "metadata": {},
   "outputs": [],
   "source": [
    "Q 2. why threading module used? write the use of the following functions:\n",
    "-activeCount()\n",
    "-currentThread()\n",
    "-enumerate()"
   ]
  },
  {
   "cell_type": "code",
   "execution_count": null,
   "id": "0b1eae83",
   "metadata": {},
   "outputs": [],
   "source": [
    "# threading module used because it is much power full and high level support for thread then Thread class \n",
    "\n",
    "it provide additional methods like :\n",
    "    \n",
    "    activeCount() − Returns the number of thread objects that are active.\n",
    "    \n",
    "    currentThread() − Returns the number of thread objects in the caller's thread control.\n",
    "    \n",
    "    enumerate() − Returns a list of all thread objects that are currently active."
   ]
  },
  {
   "cell_type": "code",
   "execution_count": null,
   "id": "4d8fefe5",
   "metadata": {},
   "outputs": [],
   "source": [
    "3. Explain the following functions:\n",
    "    run()\n",
    "    start()\n",
    "    join()\n",
    "    isAlive()"
   ]
  },
  {
   "cell_type": "code",
   "execution_count": null,
   "id": "6c0dc638",
   "metadata": {},
   "outputs": [],
   "source": [
    "run()− The run() method is the entry point for a thread.\n",
    "start()− The start() method starts a thread by calling the run method.\n",
    "join()− The join() waits for threads to terminate.\n",
    "isAlive()− The isAlive() method checks whether a thread is still executing."
   ]
  },
  {
   "cell_type": "code",
   "execution_count": null,
   "id": "a79d913e",
   "metadata": {},
   "outputs": [],
   "source": [
    "Q 4. write a python program to create two threads. Thread one must print the list of squares and thread \n",
    "two must print the list of cubes."
   ]
  },
  {
   "cell_type": "code",
   "execution_count": 66,
   "id": "9a7af144",
   "metadata": {},
   "outputs": [],
   "source": [
    "import threading\n",
    "\n",
    "def sq(num):\n",
    "    l1=[]\n",
    "    for i in num :\n",
    "        l1.append(i**2)\n",
    "    print(l1)    \n",
    "    \n",
    "def cb(num):\n",
    "    l2=[]\n",
    "    for i in num :\n",
    "        l2.append(i**3)\n",
    "    print(l2)\n",
    "ar = [1,2,3,4,5]\n",
    "\n",
    "th1 = threading.Thread(target=sq , args=(ar,))\n",
    "th2 = threading.Thread(target=cb , args=(ar,))"
   ]
  },
  {
   "cell_type": "code",
   "execution_count": 67,
   "id": "1d6eee99",
   "metadata": {},
   "outputs": [
    {
     "name": "stdout",
     "output_type": "stream",
     "text": [
      "[1, 4, 9, 16, 25]\n",
      "[1, 8, 27, 64, 125]\n"
     ]
    }
   ],
   "source": [
    "th1.start()\n",
    "th1.join()\n",
    "th2.start()\n",
    "th2.join()"
   ]
  },
  {
   "cell_type": "code",
   "execution_count": null,
   "id": "3f251a2c",
   "metadata": {},
   "outputs": [],
   "source": [
    "Q 5. State advantages and disadvantages of multithreading"
   ]
  },
  {
   "cell_type": "code",
   "execution_count": null,
   "id": "5e0c724c",
   "metadata": {},
   "outputs": [],
   "source": [
    "advantages :\n",
    "    it utilize computer resources\n",
    "    it make process fast \n",
    "    it take less memory\n",
    "    it take less time \n",
    "    it is more responsive \n",
    "    at one time we can use multiple aplication or we can say we use multiple thread\n",
    "    scalability\n",
    "\n",
    "disadvantages :\n",
    "    difficulty in writing a code \n",
    "    difficulty in debugging\n",
    "    difficulty in testing \n",
    "    it need  support for thread or process\n",
    "    context switching overhead\n",
    "    "
   ]
  },
  {
   "cell_type": "code",
   "execution_count": 2,
   "id": "d1bd83ff",
   "metadata": {},
   "outputs": [],
   "source": [
    "Q 6. Explain deadlocks and race conditions"
   ]
  },
  {
   "cell_type": "code",
   "execution_count": null,
   "id": "981daec8",
   "metadata": {},
   "outputs": [],
   "source": [
    "deadlocks:\n",
    "    it is a situation in which two or more thread are indirectly or directly waiting for each other resources.\n",
    "    for ex , there are two thread t1 and t2. t1 have r1 resource and t2 have r2 resource , now t1 need r2 resource to accomplish its task\n",
    "             at the other side t2 have r2 resource and it need r1 resource to accomplishits task. both thread t1 and t2 are waiting for each other\n",
    "             resource. and at the end of the day nither of them will be abel to accomplish its task.\n",
    "\n",
    "race condition :\n",
    "    it is a condition when two or more then two thread are at the same time use same variable.\n",
    "    \n",
    "    for example, we have 10rs we have two thread both thread try to add 1rs.\n",
    "                 so we except final ans should be 12rs because both add 1rs.\n",
    "                 but because of the race condition both thread try to add 1rs at the same time.\n",
    "                 in thread shared variable value is over write so the last value enter by thread is the final value.\n",
    "                 because of this or because of the race condition we get final ans as 11rs instead of 12rs."
   ]
  }
 ],
 "metadata": {
  "kernelspec": {
   "display_name": "Python 3 (ipykernel)",
   "language": "python",
   "name": "python3"
  },
  "language_info": {
   "codemirror_mode": {
    "name": "ipython",
    "version": 3
   },
   "file_extension": ".py",
   "mimetype": "text/x-python",
   "name": "python",
   "nbconvert_exporter": "python",
   "pygments_lexer": "ipython3",
   "version": "3.9.7"
  }
 },
 "nbformat": 4,
 "nbformat_minor": 5
}
